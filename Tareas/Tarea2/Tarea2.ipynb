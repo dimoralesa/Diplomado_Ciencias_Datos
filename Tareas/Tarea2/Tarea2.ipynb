{
  "nbformat": 4,
  "nbformat_minor": 0,
  "metadata": {
    "colab": {
      "private_outputs": true,
      "provenance": [],
      "authorship_tag": "ABX9TyPX40xpVyldFF7FBEp8pzXD",
      "include_colab_link": true
    },
    "kernelspec": {
      "name": "python3",
      "display_name": "Python 3"
    },
    "language_info": {
      "name": "python"
    }
  },
  "cells": [
    {
      "cell_type": "markdown",
      "metadata": {
        "id": "view-in-github",
        "colab_type": "text"
      },
      "source": [
        "<a href=\"https://colab.research.google.com/github/dimoralesa/Diplomado_Ciencias_Datos/blob/main/Tareas/Tarea2/Tarea2.ipynb\" target=\"_parent\"><img src=\"https://colab.research.google.com/assets/colab-badge.svg\" alt=\"Open In Colab\"/></a>"
      ]
    },
    {
      "cell_type": "code",
      "execution_count": null,
      "metadata": {
        "id": "1uLQ6iahe1yE"
      },
      "outputs": [],
      "source": [
        "from datetime import date\n",
        "\n",
        "def calcular_edad(fecha_nacimiento):\n",
        "    fecha_actual = date.today()\n",
        "    edad = fecha_actual.year - fecha_nacimiento.year\n",
        "    if fecha_actual.month < fecha_nacimiento.month or (fecha_actual.month == fecha_nacimiento.month and fecha_actual.day < fecha_nacimiento.day):\n",
        "        edad -= 1\n",
        "    return edad\n",
        "\n",
        "# Ejemplo de uso\n",
        "fecha_nacimiento = date(1990, 5, 15)\n",
        "edad = calcular_edad(fecha_nacimiento)\n",
        "print(f\"La persona tiene {edad} años.\")"
      ]
    },
    {
      "cell_type": "code",
      "source": [
        "def escribir_centrado(texto):\n",
        "    espacios = \" \" * ((40 - len(texto)) // 2)\n",
        "    print(espacios + texto)\n",
        "\n",
        "# Ejemplo de uso\n",
        "texto = \"Hola, esto es un texto centrado.\"\n",
        "escribir_centrado(texto)"
      ],
      "metadata": {
        "id": "b3NsNeN4fcjn"
      },
      "execution_count": null,
      "outputs": []
    },
    {
      "cell_type": "code",
      "source": [
        "def decorador_markdown(func):\n",
        "    def wrapper(texto):\n",
        "        texto = f\"**{texto}**\"\n",
        "        texto = f\"*{texto}*\"\n",
        "        return texto\n",
        "    return wrapper\n",
        "\n",
        "@decorador_markdown\n",
        "def escribir_markdown(texto):\n",
        "    print(texto)\n",
        "\n",
        "# Ejemplo de uso\n",
        "texto = \"Este es un texto marcado con Markdown\"\n",
        "escribir_markdown(texto)"
      ],
      "metadata": {
        "id": "m3M_o5CMfkpj"
      },
      "execution_count": null,
      "outputs": []
    },
    {
      "cell_type": "code",
      "source": [
        "def comprobar_multiplos(num1, num2):\n",
        "    if num1 % num2 == 0 or num2 % num1 == 0:\n",
        "        return True\n",
        "    else:\n",
        "        return False\n",
        "\n",
        "# Ejemplo de uso\n",
        "numero1 = 12\n",
        "numero2 = 4\n",
        "if comprobar_multiplos(numero1, numero2):\n",
        "    print(\"Al menos uno de los números es múltiplo del otro.\")\n",
        "else:\n",
        "    print(\"Ninguno de los números es múltiplo del otro.\")"
      ],
      "metadata": {
        "id": "PzkjDl30fktY"
      },
      "execution_count": null,
      "outputs": []
    },
    {
      "cell_type": "code",
      "source": [
        "def temperatura_media(temperaturas):\n",
        "    total_temperaturas = sum(temperaturas)\n",
        "    media_temperaturas = total_temperaturas / len(temperaturas)\n",
        "    return media_temperaturas\n",
        "\n",
        "# Ejemplo de uso\n",
        "temperaturas_bogota = [17, 18, 19, 20, 19, 18, 17, 16, 15, 14, 14, 15, 16, 17, 18, 19, 20, 21, 22, 21, 20, 19, 18, 17]\n",
        "media = temperatura_media(temperaturas_bogota)\n",
        "print(f\"La temperatura media en Bogotá es de {media} grados Celsius.\")"
      ],
      "metadata": {
        "id": "J0PoUr2Ffkv4"
      },
      "execution_count": null,
      "outputs": []
    },
    {
      "cell_type": "code",
      "source": [
        "def convertir_espaciado(texto):\n",
        "    nuevo_texto = \" \".join(texto)\n",
        "    return nuevo_texto\n",
        "\n",
        "# Ejemplo de uso\n",
        "texto = \"Hola, tú\"\n",
        "nuevo_texto = convertir_espaciado(texto)\n",
        "print(nuevo_texto)"
      ],
      "metadata": {
        "id": "RwkRzFLyfkyZ"
      },
      "execution_count": null,
      "outputs": []
    },
    {
      "cell_type": "code",
      "source": [
        "def calcular_max_min(valores):\n",
        "    maximo = max(valores)\n",
        "    minimo = min(valores)\n",
        "    return maximo, minimo\n",
        "\n",
        "# Ejemplo de uso\n",
        "numeros = [10, 5, 20, 8, 15]\n",
        "maximo, minimo = calcular_max_min(numeros)\n",
        "print(f\"El valor máximo es {maximo} y el valor mínimo es {minimo}.\")"
      ],
      "metadata": {
        "id": "MeAudI6RfzsV"
      },
      "execution_count": null,
      "outputs": []
    },
    {
      "cell_type": "code",
      "source": [
        "import math\n",
        "\n",
        "def calcular_area_perimetro(radio):\n",
        "    area = math.pi * radio**2\n",
        "    perimetro = 2 * math.pi * radio\n",
        "    return area, perimetro\n",
        "\n",
        "# Ejemplo de uso\n",
        "radio = 5\n",
        "area, perimetro = calcular_area_perimetro(radio)\n",
        "print(f\"El área de la circunferencia es {area} y el perímetro es {perimetro}.\")\n",
        "\n"
      ],
      "metadata": {
        "id": "83ISFQ7Lfz1A"
      },
      "execution_count": null,
      "outputs": []
    },
    {
      "cell_type": "code",
      "source": [
        "import math\n",
        "\n",
        "def calcular_area_perimetro(radio):\n",
        "    area = math.pi * radio**2\n",
        "    perimetro = 2 * math.pi * radio\n",
        "    return area, perimetro\n",
        "\n",
        "# Ejemplo de uso\n",
        "radio = 5\n",
        "area, perimetro = calcular_area_perimetro(radio)\n",
        "print(f\"El área de la circunferencia es {area} y el perímetro es {perimetro}.\")"
      ],
      "metadata": {
        "id": "hL7xoAtegKGF"
      },
      "execution_count": null,
      "outputs": []
    },
    {
      "cell_type": "code",
      "source": [
        "def factorial(n):\n",
        "    if n == 0:\n",
        "        return 1\n",
        "    else:\n",
        "        return n * factorial(n - 1)\n",
        "\n",
        "# Ejemplo de uso\n",
        "numero = 5\n",
        "resultado = factorial(numero)\n",
        "print(f\"El factorial de {numero} es {resultado}.\")"
      ],
      "metadata": {
        "id": "EZ4YIWTugSbc"
      },
      "execution_count": null,
      "outputs": []
    },
    {
      "cell_type": "code",
      "source": [
        "def invertir_tupla(tupla):\n",
        "    nueva_tupla = tuple(reversed(tupla))\n",
        "    return nueva_tupla\n",
        "\n",
        "# Ejemplo de uso\n",
        "tupla = (1, 2, 3, 4, 5)\n",
        "nueva_tupla = invertir_tupla(tupla)\n",
        "print(nueva_tupla)"
      ],
      "metadata": {
        "id": "aUee3NiLgUtc"
      },
      "execution_count": null,
      "outputs": []
    },
    {
      "cell_type": "code",
      "source": [
        "from functools import reduce\n",
        "\n",
        "def media_geometrica(valores):\n",
        "    producto = reduce(lambda x, y: x * y, valores)\n",
        "    media = producto**(1/len(valores))\n",
        "    return media\n",
        "\n",
        "# Ejemplo de uso\n",
        "numeros = [2, 4, 8, 16]\n",
        "media = media_geometrica(numeros)\n",
        "print(f\"La media geométrica de los valores es {media}.\")"
      ],
      "metadata": {
        "id": "YEQK0kpIgXQY"
      },
      "execution_count": null,
      "outputs": []
    }
  ]
}