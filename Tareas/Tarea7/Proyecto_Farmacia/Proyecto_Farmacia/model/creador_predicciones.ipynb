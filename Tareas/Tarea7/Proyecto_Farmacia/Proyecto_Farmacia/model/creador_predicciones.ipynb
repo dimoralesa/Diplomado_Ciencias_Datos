{
 "cells": [
  {
   "attachments": {},
   "cell_type": "markdown",
   "metadata": {},
   "source": [
    "# KNN final!"
   ]
  },
  {
   "cell_type": "code",
   "execution_count": null,
   "metadata": {},
   "outputs": [],
   "source": [
    "%%capture --no-display\n",
    "\n",
    "from skforecast.model_selection_multiseries import grid_search_forecaster_multivariate\n",
    "from skforecast.ForecasterAutoregMultiVariate import ForecasterAutoregMultiVariate\n",
    "from sklearn.ensemble import RandomForestRegressor\n",
    "from sklearn.neighbors import KNeighborsRegressor\n",
    "from sklearn.metrics import mean_squared_error\n",
    "\n",
    "# print(ventas2['FechaReporte'].max())\n",
    "\n",
    "# product = '100003932'  # Replace with the desired product code\n",
    "print(\"len products\",len(ventas2['productCode'].unique()))\n",
    "# datos_series=[]\n",
    "productos=ventas2['productCode'].unique()\n",
    "predicciones_fut=[]      \n",
    "# models=[]      # mse train: models[i]['mean_squared_error']\n",
    "\n",
    "error_codes_fut=[]\n",
    "\n",
    "# param_grid={'n_estimators':[50,80,100],'max_depth':[2,5,10],'min_samples_leaf':[5,10]}\n",
    "param_grid={'n_neighbors':[2,3,4,5,6,7,8]}     #param grid for cv - gridsearch\n",
    "\n",
    "for i,product in enumerate(ventas2['productCode'].unique()):\n",
    "    # print(f\"product{i}: {product}\")\n",
    "    # if i>2:\n",
    "    #     break\n",
    "    product_data = ventas2[ventas2['productCode'] == product]\n",
    "    product_data=product_data.set_index('FechaLunesSemana')\n",
    "    # product_data=product_data.asfreq('W')\n",
    "    product_data=product_data.sort_index()\n",
    "\n",
    "    # datos_series.append(product_data)   # append to series list by product for visualization\n",
    "\n",
    "    steps=12    # weekly ->3months is 12 steps\n",
    "    datos_train=product_data[:-steps]\n",
    "    datos_test=product_data[-steps:]\n",
    "    # print(datos_train.head())\n",
    "    # print(datos_train.shape)\n",
    "\n",
    "    try:\n",
    "        forecaster2=ForecasterAutoregMultiVariate(\n",
    "                        regressor=KNeighborsRegressor(),\n",
    "                        level='SumaCantidadSemanal',\n",
    "                        steps=steps,\n",
    "                        lags=1\n",
    "                    )\n",
    "\n",
    "\n",
    "        results_grid=grid_search_forecaster_multivariate(\n",
    "                        forecaster=forecaster2,\n",
    "                        series=datos_train[['PromedioDiasSinVenta','SumaCantidadSemanal','puti','SumaUtilidadSemanal']],\n",
    "                        param_grid=param_grid,\n",
    "                        steps=steps,\n",
    "                        refit=True,\n",
    "                        metric='mean_squared_error',\n",
    "                        initial_train_size=len(datos_train[:-steps*2]),\n",
    "                        fixed_train_size=False,\n",
    "                        return_best=True,\n",
    "                        verbose=False\n",
    "                    )\n",
    "\n",
    "        # results_grid.reset_index(drop=True,inplace=True)\n",
    "        # models.append(results_grid.loc[0])\n",
    "\n",
    "        predictions_future=forecaster2.predict_interval(last_window=datos_test[['PromedioDiasSinVenta','SumaCantidadSemanal','puti','SumaUtilidadSemanal']])\n",
    "        predictions_future['Codigo']=product\n",
    "        predictions_future.reset_index(names=['Dates'],inplace=True)\n",
    "        predictions_future['Dates']=datos_train.index.to_list()[-1]+pd.to_timedelta(predictions_future['Dates'],unit='W')\n",
    "        # print(predictions_future)\n",
    "        predicciones_fut.append(predictions_future)\n",
    "\n",
    "    except:\n",
    "        error_codes_fut.append(product)"
   ]
  },
  {
   "cell_type": "code",
   "execution_count": null,
   "metadata": {},
   "outputs": [
    {
     "data": {
      "text/plain": [
       "4481"
      ]
     },
     "execution_count": 134,
     "metadata": {},
     "output_type": "execute_result"
    }
   ],
   "source": [
    "len(predicciones_fut)"
   ]
  },
  {
   "cell_type": "code",
   "execution_count": null,
   "metadata": {},
   "outputs": [],
   "source": [
    "import json\n",
    "data = {}\n",
    "\n",
    "for i in range(len(predicciones_fut)):\n",
    "    codigo = predicciones_fut[i]['Codigo'][0]    #predicciones [df[pred,pred5,pred95,fecha,Codigo],df,df,....]\n",
    "\n",
    "    nombre = code_names.loc[code_names['productCode']==codigo,'name'].iloc[0]  #get name from code\n",
    "\n",
    "    if nombre not in data:\n",
    "        data[nombre] = {'mse': \"\",\n",
    "                        'n_neighbors':\"\",\n",
    "                        'time_series_dates': [],\n",
    "                        'time_series_values':[],\n",
    "                        'prediction_dates': [],\n",
    "                        'prediction_values':[],\n",
    "                        'confianza5': [],\n",
    "                        'confianza95':[],\n",
    "                        'codigo': \"\",\n",
    "                        'nombre': \"\"}\n",
    "            \n",
    "    data[nombre]['time_series_values'].extend(datos_series[i]['SumaCantidadSemanal'].values.tolist())\n",
    "    fechas = datos_series[i].index.to_list()\n",
    "    fechas_str = [fecha.strftime('%Y-%m-%d %H:%M:%S') for fecha in fechas]\n",
    "    data[nombre]['time_series_dates'].extend(fechas_str)\n",
    "\n",
    "    data[nombre]['prediction_dates'].extend([d.split('T')[0] for d in predicciones_fut[i]['Dates'].values.astype(str)])\n",
    "    data[nombre]['prediction_values'].extend(predicciones_fut[i]['SumaCantidadSemanal'].values.tolist())\n",
    "    data[nombre]['confianza5'].extend(predicciones_fut[i]['lower_bound'].values.tolist())\n",
    "    data[nombre]['confianza95'].extend(predicciones_fut[i]['upper_bound'].values.tolist())\n",
    "\n",
    "    data[nombre]['codigo']=codigo\n",
    "    data[nombre]['nombre']=nombre\n",
    "\n",
    "# Guardar el diccionario en un archivo JSON\n",
    "with open('jc_model_results_future.json', 'w') as f:\n",
    "    json.dump(data, f)"
   ]
  },
  {
   "cell_type": "code",
   "execution_count": null,
   "metadata": {},
   "outputs": [
    {
     "data": {
      "text/plain": [
       "46.27535846086328"
      ]
     },
     "execution_count": 156,
     "metadata": {},
     "output_type": "execute_result"
    }
   ],
   "source": [
    "total_mse=[]\n",
    "for item in data:\n",
    "    total_mse.append(float(data[item]['mse']))\n",
    "\n",
    "sum(total_mse)/len(total_mse)"
   ]
  },
  {
   "cell_type": "code",
   "execution_count": null,
   "metadata": {},
   "outputs": [
    {
     "data": {
      "text/plain": [
       "0.05272108843537415"
      ]
     },
     "execution_count": 152,
     "metadata": {},
     "output_type": "execute_result"
    }
   ],
   "source": [
    "float(data['2 ACID MANTLE N LOCION 120 ML P.E']['mse'])"
   ]
  },
  {
   "cell_type": "code",
   "execution_count": null,
   "metadata": {},
   "outputs": [
    {
     "name": "stdout",
     "output_type": "stream",
     "text": [
      "12\n",
      "12\n",
      "12\n",
      "12\n",
      "57\n",
      "57\n"
     ]
    }
   ],
   "source": [
    "print(len(data['2 ACID MANTLE N LOCION 120 ML P.E']['confianza5']))\n",
    "print(len(data['2 ACID MANTLE N LOCION 120 ML P.E']['confianza95']))\n",
    "print(len(data['2 ACID MANTLE N LOCION 120 ML P.E']['prediction_dates']))\n",
    "print(len(data['2 ACID MANTLE N LOCION 120 ML P.E']['prediction_values']))\n",
    "print(len(data['2 ACID MANTLE N LOCION 120 ML P.E']['time_series_dates']))\n",
    "print(len(data['2 ACID MANTLE N LOCION 120 ML P.E']['time_series_values']))"
   ]
  },
  {
   "cell_type": "code",
   "execution_count": null,
   "metadata": {},
   "outputs": [],
   "source": [
    "key='LORATADINA 10 MG 20 TABLETAS AG'"
   ]
  },
  {
   "cell_type": "code",
   "execution_count": null,
   "metadata": {},
   "outputs": [],
   "source": [
    "series_data=pd.DataFrame(index=data[key]['time_series_dates'],data={'serie':data[key]['time_series_values']})"
   ]
  },
  {
   "cell_type": "code",
   "execution_count": null,
   "metadata": {},
   "outputs": [],
   "source": [
    "predict_data=pd.DataFrame(index=data[key]['prediction_dates'],\n",
    "                          data={'pred':data[key]['prediction_values'],\n",
    "                                'conf5':data[key]['confianza5'],\n",
    "                                'conf95':data[key]['confianza95']})"
   ]
  },
  {
   "cell_type": "code",
   "execution_count": null,
   "metadata": {},
   "outputs": [],
   "source": [
    "with open('jc_model_results_future.json', 'w') as f:\n",
    "    json.dump(data, f)"
   ]
  },
  {
   "cell_type": "code",
   "execution_count": null,
   "metadata": {},
   "outputs": [
    {
     "data": {
      "text/plain": [
       "4481"
      ]
     },
     "execution_count": 215,
     "metadata": {},
     "output_type": "execute_result"
    }
   ],
   "source": [
    "len(predicciones_fut)"
   ]
  },
  {
   "cell_type": "code",
   "execution_count": null,
   "metadata": {},
   "outputs": [
    {
     "data": {
      "text/html": [
       "<div>\n",
       "<style scoped>\n",
       "    .dataframe tbody tr th:only-of-type {\n",
       "        vertical-align: middle;\n",
       "    }\n",
       "\n",
       "    .dataframe tbody tr th {\n",
       "        vertical-align: top;\n",
       "    }\n",
       "\n",
       "    .dataframe thead th {\n",
       "        text-align: right;\n",
       "    }\n",
       "</style>\n",
       "<table border=\"1\" class=\"dataframe\">\n",
       "  <thead>\n",
       "    <tr style=\"text-align: right;\">\n",
       "      <th></th>\n",
       "      <th>serie</th>\n",
       "    </tr>\n",
       "  </thead>\n",
       "  <tbody>\n",
       "    <tr>\n",
       "      <th>2022-03-19 00:00:00</th>\n",
       "      <td>0</td>\n",
       "    </tr>\n",
       "    <tr>\n",
       "      <th>2022-03-26 00:00:00</th>\n",
       "      <td>1</td>\n",
       "    </tr>\n",
       "    <tr>\n",
       "      <th>2022-04-02 00:00:00</th>\n",
       "      <td>0</td>\n",
       "    </tr>\n",
       "    <tr>\n",
       "      <th>2022-04-02 00:00:00</th>\n",
       "      <td>0</td>\n",
       "    </tr>\n",
       "    <tr>\n",
       "      <th>2022-04-09 00:00:00</th>\n",
       "      <td>0</td>\n",
       "    </tr>\n",
       "  </tbody>\n",
       "</table>\n",
       "</div>"
      ],
      "text/plain": [
       "                     serie\n",
       "2022-03-19 00:00:00      0\n",
       "2022-03-26 00:00:00      1\n",
       "2022-04-02 00:00:00      0\n",
       "2022-04-02 00:00:00      0\n",
       "2022-04-09 00:00:00      0"
      ]
     },
     "execution_count": 185,
     "metadata": {},
     "output_type": "execute_result"
    }
   ],
   "source": [
    "series_data.head()"
   ]
  },
  {
   "cell_type": "code",
   "execution_count": null,
   "metadata": {},
   "outputs": [],
   "source": [
    "data_testing = {}\n",
    "\n",
    "for i in range(1):\n",
    "    codigo = predicciones_fut[i]['Codigo'][0]    #predicciones [df[pred,pred5,pred95,fecha,Codigo],df,df,....]\n",
    "\n",
    "    nombre = code_names.loc[code_names['productCode']==codigo,'name'].iloc[0]  #get name from code\n",
    "\n",
    "    if nombre not in data_testing:\n",
    "        data_testing[nombre] = {'mse': \"\",\n",
    "                        'n_neighbors':\"\",\n",
    "                        'time_series_dates': [],\n",
    "                        'time_series_values':[],\n",
    "                        'prediction_dates': [],\n",
    "                        'prediction_values':[],\n",
    "                        'confianza5': [],\n",
    "                        'confianza95':[],\n",
    "                        'codigo': \"\",\n",
    "                        'nombre': \"\"}\n",
    "            \n",
    "    data_testing[nombre]['time_series_values'].extend(datos_series[i]['SumaCantidadSemanal'].values.tolist())\n",
    "    fechas = datos_series[i].index.to_list()\n",
    "    fechas_str = [fecha.strftime('%Y-%m-%d %H:%M:%S') for fecha in fechas]\n",
    "    data_testing[nombre]['time_series_dates'].extend(fechas_str)\n",
    "\n",
    "    data_testing[nombre]['prediction_dates'].extend([d.split('T')[0] for d in predicciones_fut[i]['Dates'].values.astype(str)])\n",
    "    data_testing[nombre]['prediction_values'].extend(predicciones_fut[i]['SumaCantidadSemanal'].values.tolist())\n",
    "    data_testing[nombre]['confianza5'].extend(predicciones_fut[i]['lower_bound'].values.tolist())\n",
    "    data_testing[nombre]['confianza95'].extend(predicciones_fut[i]['upper_bound'].values.tolist())\n",
    "\n",
    "    data_testing[nombre]['codigo']=codigo\n",
    "    data_testing[nombre]['nombre']=nombre"
   ]
  }
 ],
 "metadata": {
  "kernelspec": {
   "display_name": ".venv",
   "language": "python",
   "name": "python3"
  },
  "language_info": {
   "codemirror_mode": {
    "name": "ipython",
    "version": 3
   },
   "file_extension": ".py",
   "mimetype": "text/x-python",
   "name": "python",
   "nbconvert_exporter": "python",
   "pygments_lexer": "ipython3",
   "version": "3.11.1"
  },
  "orig_nbformat": 4
 },
 "nbformat": 4,
 "nbformat_minor": 2
}
